{
 "cells": [
  {
   "cell_type": "markdown",
   "metadata": {},
   "source": [
    "# The art of computer programming"
   ]
  },
  {
   "cell_type": "markdown",
   "metadata": {},
   "source": [
    "## Algorithm E (Euclids's algorithm)\n",
    "Given two positive integers m and n, find their greatest common divisor, that is, the largest positive integer that evenly dvides both m and n.\n",
    "\n",
    "E0. [Ensure m >= n] If m <n, exchange m <-> n \n",
    "\n",
    "E1. [Find remainder.] Divide m by n and let r be the remainder (We will have 0 <= r < n.) \n",
    "\n",
    "E2. [Is it zero?] If r=0, the algorithm terminates, n is the answer.\n",
    "\n",
    "E3. [Reduce] Set m <- n, n <- r, and go back to step E1."
   ]
  },
  {
   "cell_type": "code",
   "execution_count": 11,
   "metadata": {},
   "outputs": [
    {
     "name": "stdout",
     "output_type": "stream",
     "text": [
      "0\n"
     ]
    }
   ],
   "source": [
    "m=8\n",
    "n=2\n",
    "r=None\n",
    "while r!=0:\n",
    "    r = m%n\n",
    "    m=n\n",
    "    n=r\n",
    "\n",
    "print(n)\n",
    "\n",
    "# Doesen't work"
   ]
  },
  {
   "cell_type": "code",
   "execution_count": 44,
   "metadata": {},
   "outputs": [
    {
     "name": "stdout",
     "output_type": "stream",
     "text": [
      "17\n"
     ]
    }
   ],
   "source": [
    "n=119\n",
    "m=544\n",
    "\n",
    "def euclid(m,n):\n",
    "    if m<n:\n",
    "        m,n = n,m\n",
    "    r=m%n\n",
    "    if r == 0:\n",
    "        return n\n",
    "    m=n \n",
    "    n=r \n",
    "    return euclid(m,n)\n",
    "\n",
    "print(euclid(m,n))\n",
    "\n"
   ]
  },
  {
   "cell_type": "code",
   "execution_count": 1,
   "metadata": {},
   "outputs": [
    {
     "name": "stdout",
     "output_type": "stream",
     "text": [
      "17\n"
     ]
    }
   ],
   "source": [
    "m=119\n",
    "n=544\n",
    "\n",
    "def euclid(m,n):\n",
    "    if m<n:\n",
    "        m,n = n,m\n",
    "    if n==0:\n",
    "        return m\n",
    "    else:\n",
    "        return euclid(n,m%n)\n",
    "\n",
    "print(euclid(m,n))"
   ]
  },
  {
   "cell_type": "markdown",
   "metadata": {},
   "source": [
    "Some notes on notation:\n",
    "\n",
    "Insted of writing indexed items like so: $v_1, v_2, v_3, ... v_n$\n",
    "We write for example the j-th element as v[j]\n",
    "\n",
    "For doubly subscripted notation like $a_{ij}$ we write a[a,j]\n",
    "\n",
    "Sometimes multiple lette names are used for variables like 'TEMP', for temporary variables or PRIME[K] might denote the Kth prime number and so on.\n",
    "\n",
    "\n"
   ]
  },
  {
   "cell_type": "markdown",
   "metadata": {},
   "source": [
    "## Features of Algorithms\n",
    "### 1. Finiteness: \n",
    "\n",
    "- An algorithm must always terminate after a finite number of steps. \n",
    "\n",
    "- The number of steps can become arbitrarily large.\n",
    "\n",
    "- a procedure that has all of the characteristics of an algorithm except that it lacks finiteness may be called a **computational method**.\n",
    "\n",
    "### 2. Definiteness.\n",
    "\n",
    "- Each step must be preciesly definded. The actions carried out must be rigorously and unambiguously specified for each case. \n",
    "\n",
    "### 3. Input\n",
    "- has zero or more inputs\n",
    "- quantities are given initally before the algo begins\n",
    "- inputs are taken from specified sets of objects.\n",
    "\n",
    "\n",
    "### 4. Output\n",
    "- An algo must have one or more outputs.\n",
    "- Outputs are qunatities that have a specified relation to the inputs.\n",
    "\n",
    "### 5. Effectiveness. \n",
    "- an algorithm is generally expected to be effective, meaning that it's operations\n",
    "must all be sufficiently basic that they can be done with pen and paper exactly and in a finite lenght of time.\n",
    "\n",
    "Don't overcomplicate shit I think that means.\n",
    "\n",
    "\n",
    "## Practice\n",
    "In practice we not only want algorithms that are good in some loosely defined aesthetic sense.\n",
    "one criterion of goodness is the length of time taken to perfom the algo.\n",
    "\n",
    "\n",
    "This is a test\n"
   ]
  }
 ],
 "metadata": {
  "kernelspec": {
   "display_name": "Python 3",
   "language": "python",
   "name": "python3"
  },
  "language_info": {
   "codemirror_mode": {
    "name": "ipython",
    "version": 3
   },
   "file_extension": ".py",
   "mimetype": "text/x-python",
   "name": "python",
   "nbconvert_exporter": "python",
   "pygments_lexer": "ipython3",
   "version": "3.12.5"
  }
 },
 "nbformat": 4,
 "nbformat_minor": 2
}
